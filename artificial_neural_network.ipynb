{
  "nbformat": 4,
  "nbformat_minor": 0,
  "metadata": {
    "colab": {
      "name": "artificial_neural_network.ipynb",
      "provenance": [],
      "collapsed_sections": [],
      "toc_visible": true,
      "include_colab_link": true
    },
    "kernelspec": {
      "name": "python3",
      "display_name": "Python 3"
    }
  },
  "cells": [
    {
      "cell_type": "markdown",
      "metadata": {
        "id": "view-in-github",
        "colab_type": "text"
      },
      "source": [
        "<a href=\"https://colab.research.google.com/github/anuva04/ML_Beginners/blob/main/artificial_neural_network.ipynb\" target=\"_parent\"><img src=\"https://colab.research.google.com/assets/colab-badge.svg\" alt=\"Open In Colab\"/></a>"
      ]
    },
    {
      "cell_type": "markdown",
      "metadata": {
        "id": "lP6JLo1tGNBg"
      },
      "source": [
        "# Artificial Neural Network\n",
        "\n",
        "## The Neuron\n",
        "- the basic building block of neural networks\n",
        "- *neuron and node are used interchangeably*\n",
        "- it gets some input signals/values\n",
        "- it gives an output signal/value\n",
        "- the input variables are independent, but for only one specific observation. However, they need to be standardised or normalised\n",
        "- output value can be binary, continuous or categorical\n",
        "- the input values are multiplied with some weights, and these are fundamental to the learning process of the neurons\n",
        "- all the input values are multiplied with weights are summed up and fed into an activation function\n",
        "- the activation function decides whether to pass on the signal or not\n",
        "\n",
        "## Activation function\n",
        "- each neuron has an activation function\n",
        "- The common activation functions are:\n",
        "- threshold function: if signal is less than threshold, pass on 0, else pass on 1\n",
        "- sigmoid function: 1/(1+e^-x)\n",
        "- rectifier function: max(0,x) -> for values less than 0, it outputs 0, and otherwise it outputs the actual value\n",
        "- hyperbolic tangent function: (1-e^(-2x))/(1+e^(-2x))\n",
        "\n",
        "## How do NNs learn?\n",
        "- some input values are fed into the model\n",
        "- the model assigns some weights to them\n",
        "- it calculates the output based on the weights and activation function\n",
        "- it compares this output with the actual output \n",
        "- it calulates the error using a cost function\n",
        "- the error value is fed back into the model\n",
        "- based on this value, the assigned weights are updated to minimise the error\n",
        "- this process is called back propagation\n",
        "\n",
        "## Gradient Descent\n",
        "- the cost function is: **C = 1/2(y-y')^2**\n",
        "- it is a quadratic function with a minimum value, which are trying to achieve\n",
        "- in the cost function curve, we start at a point and determine the slope\n",
        "- if slope is negative, means we need to go right, else we need to go left\n",
        "- it is called gradient descent because we are descending towards the minimum of the cost function\n",
        "- for this method to work, the cost function should be convex, that is it should have one global minimum\n",
        "- if there are multiple local minima, the model may find a non-optimal minimum which is not the global minimum\n",
        "- to solve this issue, stochastic gradient descent is used\n",
        "- in batch gradient descent, all the rows of data is fed at once, and then weights are adjusted\n",
        "- however, in stochastic gradient descent, at a time only one row is processed, the weights are adjusted and then the next row is processed\n",
        "- stochastic gradient descent is much more likely to find the global minimum\n",
        "- batch gradient descent is a deterministic algorithm, whereas stochastic gradient descent is stochastic or random\n",
        "- mini batch gradient descent is a hybrid of the above two, where mini batches of a section of rows are processed at a time\n",
        "<hr>\n",
        "- **backpropagation** is the process of sending back cost function information to the input layer in order to adjust weights\n",
        "- **learning rate** decides how much the weights are updated after each backpropagation\n",
        "- when the whole training set is processed by the ANN model, it is called one **epoch**\n",
        "\n",
        "\n"
      ]
    },
    {
      "cell_type": "markdown",
      "metadata": {
        "id": "gWZyYmS_UE_L"
      },
      "source": [
        "### Importing the libraries"
      ]
    },
    {
      "cell_type": "code",
      "metadata": {
        "id": "MxkJoQBkUIHC"
      },
      "source": [
        "import numpy as np\n",
        "import pandas as pd\n",
        "import tensorflow as tf"
      ],
      "execution_count": 1,
      "outputs": []
    },
    {
      "cell_type": "code",
      "metadata": {
        "id": "ZaTwK7ojXr2F",
        "colab": {
          "base_uri": "https://localhost:8080/",
          "height": 35
        },
        "outputId": "e824543d-1dc1-49f7-d79d-0b30cee236f8"
      },
      "source": [
        "tf.__version__"
      ],
      "execution_count": 2,
      "outputs": [
        {
          "output_type": "execute_result",
          "data": {
            "application/vnd.google.colaboratory.intrinsic+json": {
              "type": "string"
            },
            "text/plain": [
              "'2.6.0'"
            ]
          },
          "metadata": {},
          "execution_count": 2
        }
      ]
    },
    {
      "cell_type": "markdown",
      "metadata": {
        "id": "1E0Q3aoKUCRX"
      },
      "source": [
        "## Part 1 - Data Preprocessing"
      ]
    },
    {
      "cell_type": "markdown",
      "metadata": {
        "id": "cKWAkFVGUU0Z"
      },
      "source": [
        "### Importing the dataset"
      ]
    },
    {
      "cell_type": "code",
      "metadata": {
        "id": "MXUkhkMfU4wq"
      },
      "source": [
        "dataset = pd.read_csv('Churn_Modelling.csv')\n",
        "X = dataset.iloc[:, 3:-1].values\n",
        "y = dataset.iloc[:, -1].values"
      ],
      "execution_count": 3,
      "outputs": []
    },
    {
      "cell_type": "code",
      "metadata": {
        "id": "VYP9cQTWbzuI",
        "colab": {
          "base_uri": "https://localhost:8080/"
        },
        "outputId": "a0b7b3b7-8d8d-4b60-c081-25558c3cb588"
      },
      "source": [
        "print(X)"
      ],
      "execution_count": 4,
      "outputs": [
        {
          "output_type": "stream",
          "name": "stdout",
          "text": [
            "[[619 'France' 'Female' ... 1 1 101348.88]\n",
            " [608 'Spain' 'Female' ... 0 1 112542.58]\n",
            " [502 'France' 'Female' ... 1 0 113931.57]\n",
            " ...\n",
            " [709 'France' 'Female' ... 0 1 42085.58]\n",
            " [772 'Germany' 'Male' ... 1 0 92888.52]\n",
            " [792 'France' 'Female' ... 1 0 38190.78]]\n"
          ]
        }
      ]
    },
    {
      "cell_type": "code",
      "metadata": {
        "id": "38vKGE6Nb2RR",
        "colab": {
          "base_uri": "https://localhost:8080/"
        },
        "outputId": "a81c16b5-27b2-44dd-dde0-192a663f024b"
      },
      "source": [
        "print(y)"
      ],
      "execution_count": 5,
      "outputs": [
        {
          "output_type": "stream",
          "name": "stdout",
          "text": [
            "[1 0 1 ... 1 1 0]\n"
          ]
        }
      ]
    },
    {
      "cell_type": "markdown",
      "metadata": {
        "id": "N6bQ0UgSU-NJ"
      },
      "source": [
        "### Encoding categorical data"
      ]
    },
    {
      "cell_type": "markdown",
      "metadata": {
        "id": "le5MJreAbW52"
      },
      "source": [
        "Label Encoding the \"Gender\" column"
      ]
    },
    {
      "cell_type": "code",
      "metadata": {
        "id": "PxVKWXxLbczC"
      },
      "source": [
        "from sklearn.preprocessing import LabelEncoder\n",
        "le = LabelEncoder()\n",
        "X[:, 2] = le.fit_transform(X[:, 2])"
      ],
      "execution_count": 6,
      "outputs": []
    },
    {
      "cell_type": "code",
      "metadata": {
        "id": "-M1KboxFb6OO",
        "colab": {
          "base_uri": "https://localhost:8080/"
        },
        "outputId": "8bbdedfd-cc56-4ade-fb0b-a19e2dac0502"
      },
      "source": [
        "print(X)"
      ],
      "execution_count": 7,
      "outputs": [
        {
          "output_type": "stream",
          "name": "stdout",
          "text": [
            "[[619 'France' 0 ... 1 1 101348.88]\n",
            " [608 'Spain' 0 ... 0 1 112542.58]\n",
            " [502 'France' 0 ... 1 0 113931.57]\n",
            " ...\n",
            " [709 'France' 0 ... 0 1 42085.58]\n",
            " [772 'Germany' 1 ... 1 0 92888.52]\n",
            " [792 'France' 0 ... 1 0 38190.78]]\n"
          ]
        }
      ]
    },
    {
      "cell_type": "markdown",
      "metadata": {
        "id": "CUxGZezpbMcb"
      },
      "source": [
        "One Hot Encoding the \"Geography\" column"
      ]
    },
    {
      "cell_type": "code",
      "metadata": {
        "id": "AMXC8-KMVirw"
      },
      "source": [
        "from sklearn.compose import ColumnTransformer\n",
        "from sklearn.preprocessing import OneHotEncoder\n",
        "ct = ColumnTransformer(transformers=[('encoder', OneHotEncoder(), [1])], remainder='passthrough')\n",
        "X = np.array(ct.fit_transform(X))"
      ],
      "execution_count": 8,
      "outputs": []
    },
    {
      "cell_type": "code",
      "metadata": {
        "id": "ZcxwEon-b8nV",
        "colab": {
          "base_uri": "https://localhost:8080/"
        },
        "outputId": "abcedce5-5720-46d8-8e01-812629e7bdd8"
      },
      "source": [
        "print(X)"
      ],
      "execution_count": 9,
      "outputs": [
        {
          "output_type": "stream",
          "name": "stdout",
          "text": [
            "[[1.0 0.0 0.0 ... 1 1 101348.88]\n",
            " [0.0 0.0 1.0 ... 0 1 112542.58]\n",
            " [1.0 0.0 0.0 ... 1 0 113931.57]\n",
            " ...\n",
            " [1.0 0.0 0.0 ... 0 1 42085.58]\n",
            " [0.0 1.0 0.0 ... 1 0 92888.52]\n",
            " [1.0 0.0 0.0 ... 1 0 38190.78]]\n"
          ]
        }
      ]
    },
    {
      "cell_type": "markdown",
      "metadata": {
        "id": "vHol938cW8zd"
      },
      "source": [
        "### Splitting the dataset into the Training set and Test set"
      ]
    },
    {
      "cell_type": "code",
      "metadata": {
        "id": "Z-TDt0Y_XEfc"
      },
      "source": [
        "from sklearn.model_selection import train_test_split\n",
        "X_train, X_test, y_train, y_test = train_test_split(X, y, test_size = 0.2, random_state = 0)"
      ],
      "execution_count": 10,
      "outputs": []
    },
    {
      "cell_type": "markdown",
      "metadata": {
        "id": "RE_FcHyfV3TQ"
      },
      "source": [
        "### Feature Scaling\n",
        "- feature scaling is a must for deep learning\n",
        "- apply it to all the features"
      ]
    },
    {
      "cell_type": "code",
      "metadata": {
        "id": "ViCrE00rV8Sk"
      },
      "source": [
        "from sklearn.preprocessing import StandardScaler\n",
        "sc = StandardScaler()\n",
        "X_train = sc.fit_transform(X_train)\n",
        "X_test = sc.transform(X_test)"
      ],
      "execution_count": 11,
      "outputs": []
    },
    {
      "cell_type": "markdown",
      "metadata": {
        "id": "-zfEzkRVXIwF"
      },
      "source": [
        "## Part 2 - Building the ANN"
      ]
    },
    {
      "cell_type": "markdown",
      "metadata": {
        "id": "KvdeScabXtlB"
      },
      "source": [
        "### Initializing the ANN\n",
        "- initalise ANN as a sequence of layers"
      ]
    },
    {
      "cell_type": "code",
      "metadata": {
        "id": "3dtrScHxXQox"
      },
      "source": [
        "ann = tf.keras.models.Sequential()"
      ],
      "execution_count": 12,
      "outputs": []
    },
    {
      "cell_type": "markdown",
      "metadata": {
        "id": "rP6urV6SX7kS"
      },
      "source": [
        "### Adding the input layer and the first hidden layer\n",
        "- units: number of neurons in the layer\n",
        "- the number of units have to selected by experimentation\n",
        "- here, the activation function is a rectifier function"
      ]
    },
    {
      "cell_type": "code",
      "metadata": {
        "id": "bppGycBXYCQr"
      },
      "source": [
        "ann.add(tf.keras.layers.Dense(units=6, activation='relu'))"
      ],
      "execution_count": 13,
      "outputs": []
    },
    {
      "cell_type": "markdown",
      "metadata": {
        "id": "BELWAc_8YJze"
      },
      "source": [
        "### Adding the second hidden layer"
      ]
    },
    {
      "cell_type": "code",
      "metadata": {
        "id": "JneR0u0sYRTd"
      },
      "source": [
        "ann.add(tf.keras.layers.Dense(units=6, activation='relu'))"
      ],
      "execution_count": 14,
      "outputs": []
    },
    {
      "cell_type": "markdown",
      "metadata": {
        "id": "OyNEe6RXYcU4"
      },
      "source": [
        "### Adding the output layer\n",
        "- since the output column of this dataset is a binary variable, we need only one variable to encode it, which will take values 0 or 1\n",
        "- hence, we need only one neuron in the output layer\n",
        "- moreover, since the output is binary, a sigmoid function will be a good fit for activation function"
      ]
    },
    {
      "cell_type": "code",
      "metadata": {
        "id": "Cn3x41RBYfvY"
      },
      "source": [
        "ann.add(tf.keras.layers.Dense(units=1, activation='sigmoid'))"
      ],
      "execution_count": 15,
      "outputs": []
    },
    {
      "cell_type": "markdown",
      "metadata": {
        "id": "JT4u2S1_Y4WG"
      },
      "source": [
        "## Part 3 - Training the ANN"
      ]
    },
    {
      "cell_type": "markdown",
      "metadata": {
        "id": "8GWlJChhY_ZI"
      },
      "source": [
        "### Compiling the ANN\n",
        "- optimiser is used to perform stochastic gradient descent\n",
        "- loss is used to define the loss function which is the cost function\n",
        "- for computing a binary outcome, loss function is binary_crossentropy\n",
        "- for computing a outcome with more than 2 variables, loss function to be used is catergorical_crossentropy\n",
        "- the accuracy is calculated based on the metrics chosen"
      ]
    },
    {
      "cell_type": "code",
      "metadata": {
        "id": "fG3RrwDXZEaS"
      },
      "source": [
        "ann.compile(optimizer = 'adam', loss = 'binary_crossentropy', metrics = ['accuracy'])"
      ],
      "execution_count": 16,
      "outputs": []
    },
    {
      "cell_type": "markdown",
      "metadata": {
        "id": "0QR_G5u7ZLSM"
      },
      "source": [
        "### Training the ANN on the Training set"
      ]
    },
    {
      "cell_type": "code",
      "metadata": {
        "id": "nHZ-LKv_ZRb3",
        "colab": {
          "base_uri": "https://localhost:8080/"
        },
        "outputId": "18ac56a4-e2b7-4b48-d3a5-068b586a5899"
      },
      "source": [
        "ann.fit(X_train, y_train, batch_size = 32, epochs = 100)"
      ],
      "execution_count": 17,
      "outputs": [
        {
          "output_type": "stream",
          "name": "stdout",
          "text": [
            "Epoch 1/100\n",
            "250/250 [==============================] - 1s 789us/step - loss: 0.6281 - accuracy: 0.6862\n",
            "Epoch 2/100\n",
            "250/250 [==============================] - 0s 886us/step - loss: 0.4734 - accuracy: 0.7960\n",
            "Epoch 3/100\n",
            "250/250 [==============================] - 0s 857us/step - loss: 0.4459 - accuracy: 0.7960\n",
            "Epoch 4/100\n",
            "250/250 [==============================] - 0s 843us/step - loss: 0.4339 - accuracy: 0.7964\n",
            "Epoch 5/100\n",
            "250/250 [==============================] - 0s 884us/step - loss: 0.4242 - accuracy: 0.7995\n",
            "Epoch 6/100\n",
            "250/250 [==============================] - 0s 806us/step - loss: 0.4130 - accuracy: 0.8062\n",
            "Epoch 7/100\n",
            "250/250 [==============================] - 0s 852us/step - loss: 0.3998 - accuracy: 0.8148\n",
            "Epoch 8/100\n",
            "250/250 [==============================] - 0s 792us/step - loss: 0.3894 - accuracy: 0.8219\n",
            "Epoch 9/100\n",
            "250/250 [==============================] - 0s 805us/step - loss: 0.3820 - accuracy: 0.8298\n",
            "Epoch 10/100\n",
            "250/250 [==============================] - 0s 838us/step - loss: 0.3769 - accuracy: 0.8355\n",
            "Epoch 11/100\n",
            "250/250 [==============================] - 0s 863us/step - loss: 0.3732 - accuracy: 0.8375\n",
            "Epoch 12/100\n",
            "250/250 [==============================] - 0s 909us/step - loss: 0.3707 - accuracy: 0.8400\n",
            "Epoch 13/100\n",
            "250/250 [==============================] - 0s 854us/step - loss: 0.3686 - accuracy: 0.8428\n",
            "Epoch 14/100\n",
            "250/250 [==============================] - 0s 836us/step - loss: 0.3668 - accuracy: 0.8432\n",
            "Epoch 15/100\n",
            "250/250 [==============================] - 0s 842us/step - loss: 0.3652 - accuracy: 0.8447\n",
            "Epoch 16/100\n",
            "250/250 [==============================] - 0s 849us/step - loss: 0.3639 - accuracy: 0.8457\n",
            "Epoch 17/100\n",
            "250/250 [==============================] - 0s 851us/step - loss: 0.3626 - accuracy: 0.8464\n",
            "Epoch 18/100\n",
            "250/250 [==============================] - 0s 778us/step - loss: 0.3618 - accuracy: 0.8482\n",
            "Epoch 19/100\n",
            "250/250 [==============================] - 0s 854us/step - loss: 0.3607 - accuracy: 0.8491\n",
            "Epoch 20/100\n",
            "250/250 [==============================] - 0s 807us/step - loss: 0.3592 - accuracy: 0.8482\n",
            "Epoch 21/100\n",
            "250/250 [==============================] - 0s 870us/step - loss: 0.3581 - accuracy: 0.8504\n",
            "Epoch 22/100\n",
            "250/250 [==============================] - 0s 834us/step - loss: 0.3568 - accuracy: 0.8512\n",
            "Epoch 23/100\n",
            "250/250 [==============================] - 0s 805us/step - loss: 0.3560 - accuracy: 0.8520\n",
            "Epoch 24/100\n",
            "250/250 [==============================] - 0s 792us/step - loss: 0.3549 - accuracy: 0.8519\n",
            "Epoch 25/100\n",
            "250/250 [==============================] - 0s 825us/step - loss: 0.3545 - accuracy: 0.8515\n",
            "Epoch 26/100\n",
            "250/250 [==============================] - 0s 863us/step - loss: 0.3538 - accuracy: 0.8534\n",
            "Epoch 27/100\n",
            "250/250 [==============================] - 0s 789us/step - loss: 0.3530 - accuracy: 0.8534\n",
            "Epoch 28/100\n",
            "250/250 [==============================] - 0s 803us/step - loss: 0.3522 - accuracy: 0.8529\n",
            "Epoch 29/100\n",
            "250/250 [==============================] - 0s 836us/step - loss: 0.3513 - accuracy: 0.8545\n",
            "Epoch 30/100\n",
            "250/250 [==============================] - 0s 904us/step - loss: 0.3506 - accuracy: 0.8530\n",
            "Epoch 31/100\n",
            "250/250 [==============================] - 0s 867us/step - loss: 0.3500 - accuracy: 0.8528\n",
            "Epoch 32/100\n",
            "250/250 [==============================] - 0s 834us/step - loss: 0.3492 - accuracy: 0.8555\n",
            "Epoch 33/100\n",
            "250/250 [==============================] - 0s 859us/step - loss: 0.3492 - accuracy: 0.8541\n",
            "Epoch 34/100\n",
            "250/250 [==============================] - 0s 870us/step - loss: 0.3482 - accuracy: 0.8561\n",
            "Epoch 35/100\n",
            "250/250 [==============================] - 0s 788us/step - loss: 0.3475 - accuracy: 0.8556\n",
            "Epoch 36/100\n",
            "250/250 [==============================] - 0s 830us/step - loss: 0.3470 - accuracy: 0.8577\n",
            "Epoch 37/100\n",
            "250/250 [==============================] - 0s 834us/step - loss: 0.3461 - accuracy: 0.8568\n",
            "Epoch 38/100\n",
            "250/250 [==============================] - 0s 831us/step - loss: 0.3452 - accuracy: 0.8559\n",
            "Epoch 39/100\n",
            "250/250 [==============================] - 0s 783us/step - loss: 0.3449 - accuracy: 0.8577\n",
            "Epoch 40/100\n",
            "250/250 [==============================] - 0s 867us/step - loss: 0.3437 - accuracy: 0.8594\n",
            "Epoch 41/100\n",
            "250/250 [==============================] - 0s 829us/step - loss: 0.3435 - accuracy: 0.8595\n",
            "Epoch 42/100\n",
            "250/250 [==============================] - 0s 782us/step - loss: 0.3432 - accuracy: 0.8597\n",
            "Epoch 43/100\n",
            "250/250 [==============================] - 0s 894us/step - loss: 0.3426 - accuracy: 0.8597\n",
            "Epoch 44/100\n",
            "250/250 [==============================] - 0s 839us/step - loss: 0.3424 - accuracy: 0.8602\n",
            "Epoch 45/100\n",
            "250/250 [==============================] - 0s 840us/step - loss: 0.3414 - accuracy: 0.8595\n",
            "Epoch 46/100\n",
            "250/250 [==============================] - 0s 833us/step - loss: 0.3411 - accuracy: 0.8606\n",
            "Epoch 47/100\n",
            "250/250 [==============================] - 0s 843us/step - loss: 0.3408 - accuracy: 0.8614\n",
            "Epoch 48/100\n",
            "250/250 [==============================] - 0s 849us/step - loss: 0.3401 - accuracy: 0.8599\n",
            "Epoch 49/100\n",
            "250/250 [==============================] - 0s 887us/step - loss: 0.3396 - accuracy: 0.8604\n",
            "Epoch 50/100\n",
            "250/250 [==============================] - 0s 866us/step - loss: 0.3390 - accuracy: 0.8612\n",
            "Epoch 51/100\n",
            "250/250 [==============================] - 0s 866us/step - loss: 0.3389 - accuracy: 0.8610\n",
            "Epoch 52/100\n",
            "250/250 [==============================] - 0s 862us/step - loss: 0.3381 - accuracy: 0.8625\n",
            "Epoch 53/100\n",
            "250/250 [==============================] - 0s 816us/step - loss: 0.3374 - accuracy: 0.8616\n",
            "Epoch 54/100\n",
            "250/250 [==============================] - 0s 868us/step - loss: 0.3370 - accuracy: 0.8616\n",
            "Epoch 55/100\n",
            "250/250 [==============================] - 0s 814us/step - loss: 0.3369 - accuracy: 0.8619\n",
            "Epoch 56/100\n",
            "250/250 [==============================] - 0s 860us/step - loss: 0.3361 - accuracy: 0.8622\n",
            "Epoch 57/100\n",
            "250/250 [==============================] - 0s 815us/step - loss: 0.3358 - accuracy: 0.8619\n",
            "Epoch 58/100\n",
            "250/250 [==============================] - 0s 840us/step - loss: 0.3353 - accuracy: 0.8625\n",
            "Epoch 59/100\n",
            "250/250 [==============================] - 0s 850us/step - loss: 0.3358 - accuracy: 0.8615\n",
            "Epoch 60/100\n",
            "250/250 [==============================] - 0s 850us/step - loss: 0.3347 - accuracy: 0.8624\n",
            "Epoch 61/100\n",
            "250/250 [==============================] - 0s 882us/step - loss: 0.3346 - accuracy: 0.8635\n",
            "Epoch 62/100\n",
            "250/250 [==============================] - 0s 818us/step - loss: 0.3346 - accuracy: 0.8624\n",
            "Epoch 63/100\n",
            "250/250 [==============================] - 0s 825us/step - loss: 0.3345 - accuracy: 0.8616\n",
            "Epoch 64/100\n",
            "250/250 [==============================] - 0s 850us/step - loss: 0.3346 - accuracy: 0.8600\n",
            "Epoch 65/100\n",
            "250/250 [==============================] - 0s 846us/step - loss: 0.3340 - accuracy: 0.8629\n",
            "Epoch 66/100\n",
            "250/250 [==============================] - 0s 815us/step - loss: 0.3341 - accuracy: 0.8631\n",
            "Epoch 67/100\n",
            "250/250 [==============================] - 0s 889us/step - loss: 0.3337 - accuracy: 0.8619\n",
            "Epoch 68/100\n",
            "250/250 [==============================] - 0s 886us/step - loss: 0.3338 - accuracy: 0.8620\n",
            "Epoch 69/100\n",
            "250/250 [==============================] - 0s 837us/step - loss: 0.3339 - accuracy: 0.8639\n",
            "Epoch 70/100\n",
            "250/250 [==============================] - 0s 835us/step - loss: 0.3335 - accuracy: 0.8620\n",
            "Epoch 71/100\n",
            "250/250 [==============================] - 0s 853us/step - loss: 0.3334 - accuracy: 0.8635\n",
            "Epoch 72/100\n",
            "250/250 [==============================] - 0s 890us/step - loss: 0.3330 - accuracy: 0.8626\n",
            "Epoch 73/100\n",
            "250/250 [==============================] - 0s 888us/step - loss: 0.3332 - accuracy: 0.8625\n",
            "Epoch 74/100\n",
            "250/250 [==============================] - 0s 838us/step - loss: 0.3333 - accuracy: 0.8633\n",
            "Epoch 75/100\n",
            "250/250 [==============================] - 0s 861us/step - loss: 0.3328 - accuracy: 0.8626\n",
            "Epoch 76/100\n",
            "250/250 [==============================] - 0s 886us/step - loss: 0.3331 - accuracy: 0.8633\n",
            "Epoch 77/100\n",
            "250/250 [==============================] - 0s 869us/step - loss: 0.3329 - accuracy: 0.8622\n",
            "Epoch 78/100\n",
            "250/250 [==============================] - 0s 831us/step - loss: 0.3332 - accuracy: 0.8627\n",
            "Epoch 79/100\n",
            "250/250 [==============================] - 0s 842us/step - loss: 0.3327 - accuracy: 0.8620\n",
            "Epoch 80/100\n",
            "250/250 [==============================] - 0s 858us/step - loss: 0.3329 - accuracy: 0.8631\n",
            "Epoch 81/100\n",
            "250/250 [==============================] - 0s 863us/step - loss: 0.3324 - accuracy: 0.8624\n",
            "Epoch 82/100\n",
            "250/250 [==============================] - 0s 861us/step - loss: 0.3325 - accuracy: 0.8635\n",
            "Epoch 83/100\n",
            "250/250 [==============================] - 0s 855us/step - loss: 0.3324 - accuracy: 0.8618\n",
            "Epoch 84/100\n",
            "250/250 [==============================] - 0s 826us/step - loss: 0.3322 - accuracy: 0.8624\n",
            "Epoch 85/100\n",
            "250/250 [==============================] - 0s 820us/step - loss: 0.3325 - accuracy: 0.8633\n",
            "Epoch 86/100\n",
            "250/250 [==============================] - 0s 881us/step - loss: 0.3323 - accuracy: 0.8629\n",
            "Epoch 87/100\n",
            "250/250 [==============================] - 0s 899us/step - loss: 0.3323 - accuracy: 0.8624\n",
            "Epoch 88/100\n",
            "250/250 [==============================] - 0s 837us/step - loss: 0.3325 - accuracy: 0.8614\n",
            "Epoch 89/100\n",
            "250/250 [==============================] - 0s 879us/step - loss: 0.3323 - accuracy: 0.8624\n",
            "Epoch 90/100\n",
            "250/250 [==============================] - 0s 863us/step - loss: 0.3318 - accuracy: 0.8620\n",
            "Epoch 91/100\n",
            "250/250 [==============================] - 0s 874us/step - loss: 0.3323 - accuracy: 0.8618\n",
            "Epoch 92/100\n",
            "250/250 [==============================] - 0s 855us/step - loss: 0.3318 - accuracy: 0.8625\n",
            "Epoch 93/100\n",
            "250/250 [==============================] - 0s 876us/step - loss: 0.3318 - accuracy: 0.8629\n",
            "Epoch 94/100\n",
            "250/250 [==============================] - 0s 864us/step - loss: 0.3319 - accuracy: 0.8630\n",
            "Epoch 95/100\n",
            "250/250 [==============================] - 0s 863us/step - loss: 0.3312 - accuracy: 0.8627\n",
            "Epoch 96/100\n",
            "250/250 [==============================] - 0s 881us/step - loss: 0.3321 - accuracy: 0.8621\n",
            "Epoch 97/100\n",
            "250/250 [==============================] - 0s 860us/step - loss: 0.3318 - accuracy: 0.8641\n",
            "Epoch 98/100\n",
            "250/250 [==============================] - 0s 937us/step - loss: 0.3318 - accuracy: 0.8630\n",
            "Epoch 99/100\n",
            "250/250 [==============================] - 0s 858us/step - loss: 0.3318 - accuracy: 0.8630\n",
            "Epoch 100/100\n",
            "250/250 [==============================] - 0s 891us/step - loss: 0.3321 - accuracy: 0.8618\n"
          ]
        },
        {
          "output_type": "execute_result",
          "data": {
            "text/plain": [
              "<keras.callbacks.History at 0x7f57577f1710>"
            ]
          },
          "metadata": {},
          "execution_count": 17
        }
      ]
    },
    {
      "cell_type": "markdown",
      "metadata": {
        "id": "tJj5k2MxZga3"
      },
      "source": [
        "## Part 4 - Making the predictions and evaluating the model"
      ]
    },
    {
      "cell_type": "markdown",
      "metadata": {
        "id": "84QFoqGYeXHL"
      },
      "source": [
        "### Predicting the result of a single observation"
      ]
    },
    {
      "cell_type": "markdown",
      "metadata": {
        "id": "CGRo3eacgDdC"
      },
      "source": [
        "**Homework**\n",
        "\n",
        "Use our ANN model to predict if the customer with the following informations will leave the bank: \n",
        "\n",
        "Geography: France\n",
        "\n",
        "Credit Score: 600\n",
        "\n",
        "Gender: Male\n",
        "\n",
        "Age: 40 years old\n",
        "\n",
        "Tenure: 3 years\n",
        "\n",
        "Balance: \\$ 60000\n",
        "\n",
        "Number of Products: 2\n",
        "\n",
        "Does this customer have a credit card? Yes\n",
        "\n",
        "Is this customer an Active Member: Yes\n",
        "\n",
        "Estimated Salary: \\$ 50000\n",
        "\n",
        "So, should we say goodbye to that customer?"
      ]
    },
    {
      "cell_type": "markdown",
      "metadata": {
        "id": "ZhU1LTgPg-kH"
      },
      "source": [
        "**Solution**"
      ]
    },
    {
      "cell_type": "code",
      "metadata": {
        "id": "2d8IoCCkeWGL",
        "colab": {
          "base_uri": "https://localhost:8080/"
        },
        "outputId": "3ec24ee5-94e6-44bf-e95e-ec46cab721a5"
      },
      "source": [
        "print(ann.predict(sc.transform([[1, 0, 0, 600, 1, 40, 3, 60000, 2, 1, 1, 50000]])) > 0.5)"
      ],
      "execution_count": 18,
      "outputs": [
        {
          "output_type": "stream",
          "name": "stdout",
          "text": [
            "[[False]]\n"
          ]
        }
      ]
    },
    {
      "cell_type": "markdown",
      "metadata": {
        "id": "wGjx94g2n7OV"
      },
      "source": [
        "Therefore, our ANN model predicts that this customer stays in the bank!\n",
        "\n",
        "**Important note 1:** Notice that the values of the features were all input in a double pair of square brackets. That's because the \"predict\" method always expects a 2D array as the format of its inputs. And putting our values into a double pair of square brackets makes the input exactly a 2D array.\n",
        "\n",
        "**Important note 2:** Notice also that the \"France\" country was not input as a string in the last column but as \"1, 0, 0\" in the first three columns. That's because of course the predict method expects the one-hot-encoded values of the state, and as we see in the first row of the matrix of features X, \"France\" was encoded as \"1, 0, 0\". And be careful to include these values in the first three columns, because the dummy variables are always created in the first columns."
      ]
    },
    {
      "cell_type": "markdown",
      "metadata": {
        "id": "u7yx47jPZt11"
      },
      "source": [
        "### Predicting the Test set results"
      ]
    },
    {
      "cell_type": "code",
      "metadata": {
        "id": "nIyEeQdRZwgs",
        "colab": {
          "base_uri": "https://localhost:8080/"
        },
        "outputId": "48683fe9-9b3c-4a81-f8df-93887a2a3068"
      },
      "source": [
        "y_pred = ann.predict(X_test)\n",
        "y_pred = (y_pred > 0.5)\n",
        "print(np.concatenate((y_pred.reshape(len(y_pred),1), y_test.reshape(len(y_test),1)),1))"
      ],
      "execution_count": 19,
      "outputs": [
        {
          "output_type": "stream",
          "name": "stdout",
          "text": [
            "[[0 0]\n",
            " [0 1]\n",
            " [0 0]\n",
            " ...\n",
            " [0 0]\n",
            " [0 0]\n",
            " [0 0]]\n"
          ]
        }
      ]
    },
    {
      "cell_type": "markdown",
      "metadata": {
        "id": "o0oyfLWoaEGw"
      },
      "source": [
        "### Making the Confusion Matrix"
      ]
    },
    {
      "cell_type": "code",
      "metadata": {
        "id": "ci6K_r6LaF6P",
        "colab": {
          "base_uri": "https://localhost:8080/"
        },
        "outputId": "2a0e75cc-8a9f-48c9-cfdb-499a7797ca1d"
      },
      "source": [
        "from sklearn.metrics import confusion_matrix, accuracy_score\n",
        "cm = confusion_matrix(y_test, y_pred)\n",
        "print(cm)\n",
        "accuracy_score(y_test, y_pred)"
      ],
      "execution_count": 20,
      "outputs": [
        {
          "output_type": "stream",
          "name": "stdout",
          "text": [
            "[[1502   93]\n",
            " [ 191  214]]\n"
          ]
        },
        {
          "output_type": "execute_result",
          "data": {
            "text/plain": [
              "0.858"
            ]
          },
          "metadata": {},
          "execution_count": 20
        }
      ]
    }
  ]
}