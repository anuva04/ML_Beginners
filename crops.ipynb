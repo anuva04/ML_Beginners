{
  "nbformat": 4,
  "nbformat_minor": 0,
  "metadata": {
    "colab": {
      "name": "crops.ipynb",
      "provenance": [],
      "toc_visible": true,
      "authorship_tag": "ABX9TyN1brtcrBc67oigwMQUYYCS",
      "include_colab_link": true
    },
    "kernelspec": {
      "name": "python3",
      "display_name": "Python 3"
    },
    "language_info": {
      "name": "python"
    }
  },
  "cells": [
    {
      "cell_type": "markdown",
      "metadata": {
        "id": "view-in-github",
        "colab_type": "text"
      },
      "source": [
        "<a href=\"https://colab.research.google.com/github/anuva04/ML_Beginners/blob/main/crops.ipynb\" target=\"_parent\"><img src=\"https://colab.research.google.com/assets/colab-badge.svg\" alt=\"Open In Colab\"/></a>"
      ]
    },
    {
      "cell_type": "markdown",
      "metadata": {
        "id": "UjJIhDJEKHTk"
      },
      "source": [
        "# Classification of crops\n",
        "### Random forest classifier and XGBoost"
      ]
    },
    {
      "cell_type": "code",
      "metadata": {
        "id": "Mdh4IXzpJ0_7"
      },
      "source": [
        "import numpy as np\n",
        "import matplotlib.pyplot as plt\n",
        "import pandas as pd"
      ],
      "execution_count": 1,
      "outputs": []
    },
    {
      "cell_type": "code",
      "metadata": {
        "id": "APwEzbD7KRF8"
      },
      "source": [
        "dataset = pd.read_csv('dataset.csv')\n",
        "X = dataset.iloc[:, :-1].values\n",
        "y = dataset.iloc[:, -1].values"
      ],
      "execution_count": 2,
      "outputs": []
    },
    {
      "cell_type": "code",
      "metadata": {
        "id": "ZzYuhh4nKTCD"
      },
      "source": [
        "from sklearn.model_selection import train_test_split\n",
        "X_train, X_test, y_train, y_test = train_test_split(X, y, test_size = 0.25, random_state = 0)"
      ],
      "execution_count": 3,
      "outputs": []
    },
    {
      "cell_type": "code",
      "metadata": {
        "colab": {
          "base_uri": "https://localhost:8080/"
        },
        "id": "HZGsRaaiKXxJ",
        "outputId": "48495e62-3657-4167-9676-f1c7ac201c07"
      },
      "source": [
        "print(X_train)"
      ],
      "execution_count": 4,
      "outputs": [
        {
          "output_type": "stream",
          "name": "stdout",
          "text": [
            "[[6.   0.55 0.72 0.17]\n",
            " [6.19 0.66 0.6  0.09]\n",
            " [7.12 0.72 0.57 0.09]\n",
            " ...\n",
            " [5.18 0.58 0.75 0.13]\n",
            " [6.54 0.58 0.21 0.16]\n",
            " [5.74 0.44 0.55 0.64]]\n"
          ]
        }
      ]
    },
    {
      "cell_type": "code",
      "metadata": {
        "colab": {
          "base_uri": "https://localhost:8080/"
        },
        "id": "4hIem_GZKa1l",
        "outputId": "990afce8-1544-473b-b020-e5d64e8b92d2"
      },
      "source": [
        "print(X_test)"
      ],
      "execution_count": 5,
      "outputs": [
        {
          "output_type": "stream",
          "name": "stdout",
          "text": [
            "[[5.26 0.79 0.88 0.23]\n",
            " [6.95 0.89 0.66 0.65]\n",
            " [6.15 0.77 0.59 0.27]\n",
            " ...\n",
            " [7.49 0.84 0.77 0.12]\n",
            " [6.41 0.26 0.61 0.1 ]\n",
            " [6.74 0.47 0.64 0.19]]\n"
          ]
        }
      ]
    },
    {
      "cell_type": "code",
      "metadata": {
        "colab": {
          "base_uri": "https://localhost:8080/"
        },
        "id": "kxx2yWeEKctK",
        "outputId": "5e0e16e4-5d2a-4d52-bff6-5b09d40e80e5"
      },
      "source": [
        "print(y_train)"
      ],
      "execution_count": 6,
      "outputs": [
        {
          "output_type": "stream",
          "name": "stdout",
          "text": [
            "['coffee' 'dahlia' 'dahlia' ... 'coffee' 'paddy' 'cauliflower']\n"
          ]
        }
      ]
    },
    {
      "cell_type": "code",
      "metadata": {
        "colab": {
          "base_uri": "https://localhost:8080/"
        },
        "id": "9qMlxmO6Keid",
        "outputId": "f1cf97b8-b7e9-4a8d-9ad0-97ce05f2c376"
      },
      "source": [
        "print(y_test)"
      ],
      "execution_count": 7,
      "outputs": [
        {
          "output_type": "stream",
          "name": "stdout",
          "text": [
            "['strawberry' 'cabbage' 'marigold' ... 'rose' 'Onion' 'lily']\n"
          ]
        }
      ]
    },
    {
      "cell_type": "markdown",
      "metadata": {
        "id": "8ppT7hG0Klc6"
      },
      "source": [
        "### Feature Scaling"
      ]
    },
    {
      "cell_type": "code",
      "metadata": {
        "id": "aPyzGPyxKkaB"
      },
      "source": [
        "from sklearn.preprocessing import StandardScaler\n",
        "sc = StandardScaler()\n",
        "X_train = sc.fit_transform(X_train)\n",
        "X_test = sc.transform(X_test)"
      ],
      "execution_count": 8,
      "outputs": []
    },
    {
      "cell_type": "code",
      "metadata": {
        "colab": {
          "base_uri": "https://localhost:8080/"
        },
        "id": "HTNCHzT2KrCA",
        "outputId": "cf2a5db3-3a48-4e25-80dd-6b12563d83c5"
      },
      "source": [
        "print(X_train)"
      ],
      "execution_count": 9,
      "outputs": [
        {
          "output_type": "stream",
          "name": "stdout",
          "text": [
            "[[-0.31121463 -0.6374737   0.53241419 -0.3960485 ]\n",
            " [-0.04407651  0.03438901 -0.25595825 -0.92771129]\n",
            " [ 1.26349426  0.40085957 -0.45305136 -0.92771129]\n",
            " ...\n",
            " [-1.46412649 -0.45423842  0.7295073  -0.6618799 ]\n",
            " [ 0.44802002 -0.45423842 -2.81816868 -0.46250635]\n",
            " [-0.67677205 -1.30933641 -0.58444677  2.7274704 ]]\n"
          ]
        }
      ]
    },
    {
      "cell_type": "code",
      "metadata": {
        "colab": {
          "base_uri": "https://localhost:8080/"
        },
        "id": "rFyTCnMXKsvl",
        "outputId": "1ca6fe62-2dfd-4136-d664-00171893e38f"
      },
      "source": [
        "print(X_test)"
      ],
      "execution_count": 10,
      "outputs": [
        {
          "output_type": "stream",
          "name": "stdout",
          "text": [
            "[[-1.35164728e+00  8.28408568e-01  1.58357744e+00  2.69859145e-03]\n",
            " [ 1.02447595e+00  1.43919285e+00  1.38227968e-01  2.79392825e+00]\n",
            " [-1.00316114e-01  7.06251712e-01 -3.21655955e-01  2.68529988e-01]\n",
            " ...\n",
            " [ 1.78371059e+00  1.13380071e+00  8.60902704e-01 -7.28337748e-01]\n",
            " [ 2.65241306e-01 -2.40874811e+00 -1.90260549e-01 -8.61253446e-01]\n",
            " [ 7.29218031e-01 -1.12610112e+00  6.83256114e-03 -2.63132805e-01]]\n"
          ]
        }
      ]
    },
    {
      "cell_type": "markdown",
      "metadata": {
        "id": "BRvFnWksK5VP"
      },
      "source": [
        "### Random Forest Classifier"
      ]
    },
    {
      "cell_type": "code",
      "metadata": {
        "colab": {
          "base_uri": "https://localhost:8080/"
        },
        "id": "RScgJ4mgK9Xu",
        "outputId": "376ea832-8429-44f9-cf6d-0f16b8b54e23"
      },
      "source": [
        "from sklearn.ensemble import RandomForestClassifier\n",
        "rf_classifier = RandomForestClassifier(n_estimators = 13, criterion = 'entropy', random_state = 0)\n",
        "rf_classifier.fit(X_train, y_train)"
      ],
      "execution_count": 11,
      "outputs": [
        {
          "output_type": "execute_result",
          "data": {
            "text/plain": [
              "RandomForestClassifier(bootstrap=True, ccp_alpha=0.0, class_weight=None,\n",
              "                       criterion='entropy', max_depth=None, max_features='auto',\n",
              "                       max_leaf_nodes=None, max_samples=None,\n",
              "                       min_impurity_decrease=0.0, min_impurity_split=None,\n",
              "                       min_samples_leaf=1, min_samples_split=2,\n",
              "                       min_weight_fraction_leaf=0.0, n_estimators=13,\n",
              "                       n_jobs=None, oob_score=False, random_state=0, verbose=0,\n",
              "                       warm_start=False)"
            ]
          },
          "metadata": {},
          "execution_count": 11
        }
      ]
    },
    {
      "cell_type": "code",
      "metadata": {
        "colab": {
          "base_uri": "https://localhost:8080/"
        },
        "id": "qwISkY8hLB7N",
        "outputId": "27674f09-015c-4c8f-86f7-7705b737d52b"
      },
      "source": [
        "print(rf_classifier.predict(sc.transform([[7.37, 0.86, 0.8, 0.26]])))"
      ],
      "execution_count": 12,
      "outputs": [
        {
          "output_type": "stream",
          "name": "stdout",
          "text": [
            "['rose']\n"
          ]
        }
      ]
    },
    {
      "cell_type": "code",
      "metadata": {
        "colab": {
          "base_uri": "https://localhost:8080/"
        },
        "id": "BZgPBBs_LGUF",
        "outputId": "c5ea5089-c2ba-46f9-b6e2-e152116fe8cd"
      },
      "source": [
        "y_pred_rf = rf_classifier.predict(X_test)\n",
        "print(np.concatenate((y_pred_rf.reshape(len(y_pred_rf),1), y_test.reshape(len(y_test),1)),1))"
      ],
      "execution_count": 15,
      "outputs": [
        {
          "output_type": "stream",
          "name": "stdout",
          "text": [
            "[['strawberry' 'strawberry']\n",
            " ['cabbage' 'cabbage']\n",
            " ['marigold' 'marigold']\n",
            " ...\n",
            " ['rose' 'rose']\n",
            " ['Onion' 'Onion']\n",
            " ['lily' 'lily']]\n"
          ]
        }
      ]
    },
    {
      "cell_type": "code",
      "metadata": {
        "colab": {
          "base_uri": "https://localhost:8080/"
        },
        "id": "Z14nhf3LLPH9",
        "outputId": "f54556d0-6eaa-406c-8bd4-3eb01cb2c962"
      },
      "source": [
        "from sklearn.metrics import confusion_matrix, accuracy_score\n",
        "cm = confusion_matrix(y_test, y_pred_rf)\n",
        "print(cm)\n",
        "accuracy_score(y_test, y_pred_rf)"
      ],
      "execution_count": 19,
      "outputs": [
        {
          "output_type": "stream",
          "name": "stdout",
          "text": [
            "[[134   0   0   0   0   0   0   0   0   0   2   0   0   0   0   0   0   0\n",
            "    0   0   0]\n",
            " [  0  99  22   0   0   0   1   0   3   0   0   0   0   0   0   0   0   0\n",
            "    0   0   0]\n",
            " [  0  12 115   0   0   0   0   0   0   0   0   0   0   0   0   0   0   0\n",
            "    0   0   0]\n",
            " [  0   0   0 134   0   0   0   0   0   0   0   0   0   0   0   0   0   0\n",
            "    0   0   0]\n",
            " [  0   0   0   0 126   0   0   0   0   0   0   0   0   0   0   0   0   0\n",
            "    0   0   0]\n",
            " [  0   0   0   0   0  86   0   0   0   0   0   0   0   0   0   0   0   0\n",
            "    0  44   0]\n",
            " [  0   3   0   0   0   0  89   0  19   0   0   0   1   0   0   0   0   0\n",
            "    0   0   0]\n",
            " [  0   0   0   0   0   0   0 132   0   0   0   0   2   0   0   0   0   0\n",
            "    0   0   0]\n",
            " [  0   3   0   0   0   0  16   0  90   0   0   0   0   0   0   0   0   3\n",
            "    0   0   0]\n",
            " [  0   0   0   0   0   0   0   0   0  45   0  41   0   0  41   0   0   2\n",
            "    0   0   0]\n",
            " [  0   0   0   0   0   0   0   0   0   0 127   0   0   0   0   0   0   0\n",
            "    0   0   0]\n",
            " [  0   0   0   0   0   0   0   0   0  27   0  90   0   0   1   0   0   7\n",
            "    0   0   0]\n",
            " [  0   0   1   0   0   0   4   4   0   0   0   0 121   0   0   0   0   0\n",
            "    2   0   0]\n",
            " [  1   0   0   0   0   0   0   1   0   0   6   0   0 115   0   0   0   0\n",
            "    0   0   0]\n",
            " [  0   0   0   0   0   0   0   0   0  10   0   1   0   0 211   0   0   9\n",
            "    0   0   0]\n",
            " [  0   0   0   0   0   0   0   0   0   0   0   0   0   0   0 141   0   0\n",
            "    0   0   0]\n",
            " [  0   0   0   0   0   0   0   0   0   0   0   0   0   0   0   0 121   0\n",
            "    0   0   0]\n",
            " [  0   0   0   0   0   0   3   0   7   7   0  12   0   0  14   0   0  49\n",
            "    1   0   0]\n",
            " [  0   0   0   0   0   0   0   0   0   1   0   0   2   0  10   0   0   6\n",
            "  112   0   0]\n",
            " [  0   0   0   0   0  30   0   0   0   0   0   0   0   0   0   0   0   0\n",
            "    0 103   0]\n",
            " [  0   0   0   0   0   0   0   0   0   0   0   0   0   0   0   0   0   0\n",
            "    0   0 128]]\n"
          ]
        },
        {
          "output_type": "execute_result",
          "data": {
            "text/plain": [
              "0.8610909090909091"
            ]
          },
          "metadata": {},
          "execution_count": 19
        }
      ]
    },
    {
      "cell_type": "code",
      "metadata": {
        "colab": {
          "base_uri": "https://localhost:8080/"
        },
        "id": "0NZKudzuLWYj",
        "outputId": "e0938d6d-8952-4b65-a5e7-0759c0cb1225"
      },
      "source": [
        "from sklearn.model_selection import cross_val_score\n",
        "accuracies = cross_val_score(estimator = rf_classifier, X = X_train, y = y_train, cv = 10)\n",
        "print(\"Accuracy: {:.2f} %\".format(accuracies.mean()*100))\n",
        "print(\"Standard Deviation: {:.2f} %\".format(accuracies.std()*100))"
      ],
      "execution_count": 20,
      "outputs": [
        {
          "output_type": "stream",
          "name": "stdout",
          "text": [
            "Accuracy: 84.59 %\n",
            "Standard Deviation: 1.07 %\n"
          ]
        }
      ]
    },
    {
      "cell_type": "markdown",
      "metadata": {
        "id": "bBRBMT_qLbo-"
      },
      "source": [
        "### XGBoost"
      ]
    },
    {
      "cell_type": "code",
      "metadata": {
        "colab": {
          "base_uri": "https://localhost:8080/"
        },
        "id": "1wtXQA4MLdzu",
        "outputId": "764ec41b-483f-4db8-f60f-78900d816a5d"
      },
      "source": [
        "from xgboost import XGBClassifier\n",
        "xgbclassifer = XGBClassifier()\n",
        "xgbclassifer.fit(X_train, y_train)"
      ],
      "execution_count": 21,
      "outputs": [
        {
          "output_type": "execute_result",
          "data": {
            "text/plain": [
              "XGBClassifier(base_score=0.5, booster='gbtree', colsample_bylevel=1,\n",
              "              colsample_bynode=1, colsample_bytree=1, gamma=0,\n",
              "              learning_rate=0.1, max_delta_step=0, max_depth=3,\n",
              "              min_child_weight=1, missing=None, n_estimators=100, n_jobs=1,\n",
              "              nthread=None, objective='multi:softprob', random_state=0,\n",
              "              reg_alpha=0, reg_lambda=1, scale_pos_weight=1, seed=None,\n",
              "              silent=None, subsample=1, verbosity=1)"
            ]
          },
          "metadata": {},
          "execution_count": 21
        }
      ]
    },
    {
      "cell_type": "code",
      "metadata": {
        "colab": {
          "base_uri": "https://localhost:8080/"
        },
        "id": "ULbThXKMLgP_",
        "outputId": "efc89ccb-a108-4b37-8d8b-c68e66799644"
      },
      "source": [
        "y_pred_xgb = xgbclassifer.predict(X_test)\n",
        "cm = confusion_matrix(y_test, y_pred_xgb)\n",
        "print(cm)\n",
        "accuracy_score(y_test, y_pred_xgb)"
      ],
      "execution_count": 22,
      "outputs": [
        {
          "output_type": "stream",
          "name": "stdout",
          "text": [
            "[[134   0   0   0   0   0   0   0   0   0   2   0   0   0   0   0   0   0\n",
            "    0   0   0]\n",
            " [  0  99  24   0   0   0   0   0   2   0   0   0   0   0   0   0   0   0\n",
            "    0   0   0]\n",
            " [  0  13 114   0   0   0   0   0   0   0   0   0   0   0   0   0   0   0\n",
            "    0   0   0]\n",
            " [  0   0   0 134   0   0   0   0   0   0   0   0   0   0   0   0   0   0\n",
            "    0   0   0]\n",
            " [  0   0   0   0 126   0   0   0   0   0   0   0   0   0   0   0   0   0\n",
            "    0   0   0]\n",
            " [  0   0   0   0   0  88   0   0   0   0   0   0   0   0   0   0   0   0\n",
            "    0  42   0]\n",
            " [  0   3   0   0   0   0  93   0  15   0   0   0   1   0   0   0   0   0\n",
            "    0   0   0]\n",
            " [  0   0   0   0   0   0   0 134   0   0   0   0   0   0   0   0   0   0\n",
            "    0   0   0]\n",
            " [  0   2   0   0   0   0  25   0  85   0   0   0   0   0   0   0   0   0\n",
            "    0   0   0]\n",
            " [  0   0   0   0   0   0   0   0   0  24   0  55   0   0  50   0   0   0\n",
            "    0   0   0]\n",
            " [  0   0   0   0   0   0   0   0   0   0 127   0   0   0   0   0   0   0\n",
            "    0   0   0]\n",
            " [  0   0   0   0   0   0   0   0   0   2   0 120   0   0   3   0   0   0\n",
            "    0   0   0]\n",
            " [  0   0   1   0   0   0   4   3   0   0   0   0 121   0   0   0   0   1\n",
            "    2   0   0]\n",
            " [  0   0   0   0   0   0   1   0   0   0   2   0   0 119   0   0   0   0\n",
            "    1   0   0]\n",
            " [  0   0   0   0   0   0   0   0   0   0   0   0   0   0 231   0   0   0\n",
            "    0   0   0]\n",
            " [  0   0   0   0   0   0   0   0   0   0   0   0   0   0   0 141   0   0\n",
            "    0   0   0]\n",
            " [  0   0   0   0   0   0   0   0   0   0   0   0   0   0   0   0 121   0\n",
            "    0   0   0]\n",
            " [  0   0   0   0   0   0   3   0   9   1   0  15   0   0  20   0   0  45\n",
            "    0   0   0]\n",
            " [  0   0   0   0   0   0   0   0   0   0   0   0   2   0  12   0   0   7\n",
            "  110   0   0]\n",
            " [  0   0   0   0   0  43   0   0   0   0   0   0   0   0   0   0   0   0\n",
            "    0  90   0]\n",
            " [  0   0   0   0   0   0   0   0   0   0   0   0   0   0   0   0   0   0\n",
            "    0   0 128]]\n"
          ]
        },
        {
          "output_type": "execute_result",
          "data": {
            "text/plain": [
              "0.866909090909091"
            ]
          },
          "metadata": {},
          "execution_count": 22
        }
      ]
    },
    {
      "cell_type": "code",
      "metadata": {
        "colab": {
          "base_uri": "https://localhost:8080/"
        },
        "id": "gtp0xt03Li2a",
        "outputId": "17eb24dd-c5ff-452d-cde7-417badb2e3f7"
      },
      "source": [
        "accuracies = cross_val_score(estimator = xgbclassifer, X = X_train, y = y_train, cv = 10)\n",
        "print(\"Accuracy: {:.2f} %\".format(accuracies.mean()*100))\n",
        "print(\"Standard Deviation: {:.2f} %\".format(accuracies.std()*100))"
      ],
      "execution_count": 23,
      "outputs": [
        {
          "output_type": "stream",
          "name": "stdout",
          "text": [
            "Accuracy: 86.35 %\n",
            "Standard Deviation: 1.14 %\n"
          ]
        }
      ]
    }
  ]
}